{
 "cells": [
  {
   "cell_type": "code",
   "execution_count": null,
   "metadata": {},
   "outputs": [
    {
     "ename": "",
     "evalue": "",
     "output_type": "error",
     "traceback": [
      "\u001b[1;31mFailed to start the Kernel. \n",
      "\u001b[1;31mJupyter server crashed. Unable to connect. \n",
      "\u001b[1;31mError code from Jupyter: 1\n",
      "\u001b[1;31mTraceback (most recent call last):\n",
      "\u001b[1;31m  File \"/Users/nsummerfield/miniforge3/envs/monai/bin/jupyter-notebook\", line 5, in <module>\n",
      "\u001b[1;31m\n",
      "\u001b[1;31m    from notebook.notebookapp import main\n",
      "\u001b[1;31m  File \"/Users/nsummerfield/miniforge3/envs/monai/lib/python3.9/site-packages/notebook/notebookapp.py\", line 43, in <module>\n",
      "\u001b[1;31m\n",
      "\u001b[1;31m    from jinja2 import Environment, FileSystemLoader\n",
      "\u001b[1;31m  File \"/Users/nsummerfield/miniforge3/envs/monai/lib/python3.9/site-packages/jinja2/__init__.py\", line 8, in <module>\n",
      "\u001b[1;31m\n",
      "\u001b[1;31m    from .environment import Environment as Environment\n",
      "\u001b[1;31m  File \"/Users/nsummerfield/miniforge3/envs/monai/lib/python3.9/site-packages/jinja2/environment.py\", line 14, in <module>\n",
      "\u001b[1;31m\n",
      "\u001b[1;31m    from markupsafe import Markup\n",
      "\u001b[1;31mModuleNotFoundError: No module named 'markupsafe'. \n",
      "\u001b[1;31mView Jupyter <a href='command:jupyter.viewOutput'>log</a> for further details."
     ]
    }
   ],
   "source": [
    "print('Hello World!')"
   ]
  },
  {
   "cell_type": "code",
   "execution_count": null,
   "metadata": {},
   "outputs": [],
   "source": []
  }
 ],
 "metadata": {
  "kernelspec": {
   "display_name": "work",
   "language": "python",
   "name": "python3"
  },
  "language_info": {
   "name": "python",
   "version": "3.10.0"
  },
  "orig_nbformat": 4,
  "vscode": {
   "interpreter": {
    "hash": "7bc1d8c9c9f30f4c6056a0885ca03692ad8a5ce71616f7c6034303466a24649f"
   }
  }
 },
 "nbformat": 4,
 "nbformat_minor": 2
}
